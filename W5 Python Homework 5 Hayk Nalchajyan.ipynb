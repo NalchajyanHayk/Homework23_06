{
 "cells": [
  {
   "cell_type": "markdown",
   "id": "2cb3fde9",
   "metadata": {},
   "source": [
    "# Hayk Nalchajyan\n",
    "# Homework for 23/06/2023"
   ]
  },
  {
   "cell_type": "markdown",
   "id": "dc4baa7f",
   "metadata": {},
   "source": [
    "### Implement a Python function called find_factorial that takes a positive integer as input and calculates its factorial using a while loop. Use the pass keyword to handle the case when the input is zero."
   ]
  },
  {
   "cell_type": "code",
   "execution_count": 16,
   "id": "4e54d702",
   "metadata": {},
   "outputs": [],
   "source": [
    "def find_factorial(n):\n",
    "        if type(n) != int or n < 0:\n",
    "            print(\"No factorial for negative numbers or floats!\")\n",
    "        elif 0 <= n <= 1:\n",
    "            return 1\n",
    "        else:\n",
    "            return n * find_factorial(n-1)"
   ]
  },
  {
   "cell_type": "code",
   "execution_count": 22,
   "id": "0e34061e",
   "metadata": {},
   "outputs": [
    {
     "data": {
      "text/plain": [
       "(1, 1, 24, 120)"
      ]
     },
     "execution_count": 22,
     "metadata": {},
     "output_type": "execute_result"
    }
   ],
   "source": [
    "find_factorial(0), find_factorial(1), find_factorial(4), find_factorial(5)"
   ]
  },
  {
   "cell_type": "code",
   "execution_count": 23,
   "id": "9adebff7",
   "metadata": {},
   "outputs": [
    {
     "name": "stdout",
     "output_type": "stream",
     "text": [
      "No factorial for negative numbers or floats!\n",
      "No factorial for negative numbers or floats!\n",
      "No factorial for negative numbers or floats!\n"
     ]
    },
    {
     "data": {
      "text/plain": [
       "(None, None, None)"
      ]
     },
     "execution_count": 23,
     "metadata": {},
     "output_type": "execute_result"
    }
   ],
   "source": [
    "find_factorial(2.5), find_factorial(\"factorial\"), find_factorial([14, 15, 16])"
   ]
  },
  {
   "cell_type": "markdown",
   "id": "0e2bb4d6",
   "metadata": {},
   "source": [
    "### Write a Python program that prints all the prime numbers between 1 and 100 using a for loop and the break keyword"
   ]
  },
  {
   "cell_type": "code",
   "execution_count": 29,
   "id": "adbe12d9",
   "metadata": {},
   "outputs": [],
   "source": [
    "import math"
   ]
  },
  {
   "cell_type": "code",
   "execution_count": 32,
   "id": "733cdf6a",
   "metadata": {},
   "outputs": [],
   "source": [
    "def prime_definer(n):\n",
    "    result = True\n",
    "    for i in range(2, int(math.sqrt(n)+1)):\n",
    "        if n % i == 0:\n",
    "            result = False\n",
    "            break\n",
    "    return result"
   ]
  },
  {
   "cell_type": "code",
   "execution_count": 43,
   "id": "a7e4fd1a",
   "metadata": {},
   "outputs": [
    {
     "name": "stdout",
     "output_type": "stream",
     "text": [
      "[2, 3, 5, 7, 11, 13, 17, 19, 23, 29, 31, 37, 41, 43, 47, 53, 59, 61, 67, 71, 73, 79, 83, 89, 97]\n"
     ]
    }
   ],
   "source": [
    "prime_list = [i for i in range(2, 101) if prime_definer(i) == True]\n",
    "print(prime_list)"
   ]
  },
  {
   "cell_type": "code",
   "execution_count": null,
   "id": "8b9e394e",
   "metadata": {},
   "outputs": [],
   "source": []
  },
  {
   "cell_type": "markdown",
   "id": "ee8e3f00",
   "metadata": {},
   "source": [
    "### Implement a Python program that asks the user to enter a password. If the password matches a predefined secret password, display a success message. Otherwise, display an error message using an if/else ternary expression."
   ]
  },
  {
   "cell_type": "code",
   "execution_count": 46,
   "id": "96ef4147",
   "metadata": {},
   "outputs": [
    {
     "name": "stdout",
     "output_type": "stream",
     "text": [
      "Please write your password! HelloWorld$1998\n",
      "ACCESS GRANTED!!! \n"
     ]
    }
   ],
   "source": [
    "password = \"HelloWorld$1998\"\n",
    "user_input = input(\"Please write your password! \")\n",
    "if password == user_input:\n",
    "    print(\"ACCESS GRANTED!!! \")\n",
    "else:\n",
    "    print(\"ACCESS DECLINED!!! \")"
   ]
  },
  {
   "cell_type": "code",
   "execution_count": null,
   "id": "2b194617",
   "metadata": {},
   "outputs": [],
   "source": []
  },
  {
   "cell_type": "markdown",
   "id": "25c811c4",
   "metadata": {},
   "source": [
    "### Create a Python function called print_pattern that takes an integer as input and prints the following pattern using a while loop:\n",
    "\n",
    "Input number is : 4\n",
    "\n",
    "1\n",
    "\n",
    "1 2\n",
    "\n",
    "1 2 3\n",
    "\n",
    "1 2 3 4"
   ]
  },
  {
   "cell_type": "code",
   "execution_count": 94,
   "id": "a91ad877",
   "metadata": {},
   "outputs": [],
   "source": [
    "def print_pattern(n):\n",
    "    try:\n",
    "        if type(n) == float or n < 1:\n",
    "             raise Exception\n",
    "        else:\n",
    "            i = 1\n",
    "            while i <= n:\n",
    "                print([j for j in range(1, i+1)])\n",
    "                i += 1\n",
    "    except Exception as e:\n",
    "        print(\"Invalid input\")"
   ]
  },
  {
   "cell_type": "code",
   "execution_count": 95,
   "id": "24219e20",
   "metadata": {},
   "outputs": [
    {
     "name": "stdout",
     "output_type": "stream",
     "text": [
      "[1]\n",
      "[1, 2]\n",
      "[1, 2, 3]\n",
      "[1, 2, 3, 4]\n",
      "Invalid input\n",
      "Invalid input\n"
     ]
    },
    {
     "data": {
      "text/plain": [
       "(None, None, None)"
      ]
     },
     "execution_count": 95,
     "metadata": {},
     "output_type": "execute_result"
    }
   ],
   "source": [
    "print_pattern(4),  print_pattern(\"a\"), print_pattern(2.9)"
   ]
  },
  {
   "cell_type": "code",
   "execution_count": null,
   "id": "c61281b1",
   "metadata": {},
   "outputs": [],
   "source": []
  },
  {
   "cell_type": "markdown",
   "id": "29b131c8",
   "metadata": {},
   "source": [
    "### Write a Python function called find_common_elements that takes two lists as input and returns a new list containing the common elements between the two input lists. Use a for loop and an if statement to check for common elements."
   ]
  },
  {
   "cell_type": "code",
   "execution_count": 96,
   "id": "62e74542",
   "metadata": {},
   "outputs": [],
   "source": [
    "def find_common_elements(list1, list2):\n",
    "    return set(list1).intersection(set(list2))"
   ]
  },
  {
   "cell_type": "code",
   "execution_count": 99,
   "id": "062c286c",
   "metadata": {},
   "outputs": [
    {
     "data": {
      "text/plain": [
       "{3, 4, 5, 6, 7, 8, 9}"
      ]
     },
     "execution_count": 99,
     "metadata": {},
     "output_type": "execute_result"
    }
   ],
   "source": [
    "find_common_elements([1,2,3,4,5,6,7,8,9], [3,4,5,6,7,8,9,10,11])"
   ]
  },
  {
   "cell_type": "code",
   "execution_count": null,
   "id": "a23f3d1b",
   "metadata": {},
   "outputs": [],
   "source": []
  },
  {
   "cell_type": "markdown",
   "id": "18f80a06",
   "metadata": {},
   "source": [
    "### Implement a Python function called find_prime_factors that takes a positive integer as input and returns a list of its prime factors. Use a while loop and an if statement to find and add prime factors to the list."
   ]
  },
  {
   "cell_type": "code",
   "execution_count": 138,
   "id": "b2687c5e",
   "metadata": {},
   "outputs": [],
   "source": [
    "def find_prime_factors(n):\n",
    "    N = n\n",
    "    prime_numbers = [j for j in range(2, n+1) if prime_definer(j) == True]\n",
    "    i = 0\n",
    "    fact_list = []\n",
    "    while i < len(prime_numbers):\n",
    "        fact = 0\n",
    "        while n % prime_numbers[i] == 0:\n",
    "            fact += 1\n",
    "            n = n // prime_numbers[i]\n",
    "        fact_list.append(fact)\n",
    "        i += 1\n",
    "    \n",
    "    factor_dict = {key: value for key, value in zip(prime_numbers, fact_list) if value != 0}\n",
    "    print(f\"Here is the prime factorization of {N}: \")\n",
    "    for key in factor_dict.keys():\n",
    "        print(f\"{key} ** {factor_dict[key]} degree! \")"
   ]
  },
  {
   "cell_type": "code",
   "execution_count": 139,
   "id": "c012f472",
   "metadata": {},
   "outputs": [
    {
     "name": "stdout",
     "output_type": "stream",
     "text": [
      "Here is the prime factorization of 15: \n",
      "3 ** 1 degree! \n",
      "5 ** 1 degree! \n"
     ]
    }
   ],
   "source": [
    "find_prime_factors(15)"
   ]
  },
  {
   "cell_type": "code",
   "execution_count": null,
   "id": "faff9b34",
   "metadata": {},
   "outputs": [],
   "source": []
  },
  {
   "cell_type": "markdown",
   "id": "8906f217",
   "metadata": {},
   "source": [
    "### Create a Python program that simulates a basic calculator. It should repeatedly ask the user for two numbers and an operator (+, -, *, /) and perform the corresponding operation using if/elif statements. Use a while loop to allow the user to perform multiple calculations until they choose to exit."
   ]
  },
  {
   "cell_type": "code",
   "execution_count": null,
   "id": "728fd385",
   "metadata": {},
   "outputs": [],
   "source": []
  },
  {
   "cell_type": "code",
   "execution_count": 30,
   "id": "7d568d65",
   "metadata": {},
   "outputs": [
    {
     "name": "stdout",
     "output_type": "stream",
     "text": [
      "Enter the first number: 5\n",
      "Enter the second number: 4\n",
      "Enter an operator (+, -, *, /): /\n",
      "try again!\n",
      "Enter the first number: exit\n",
      "Enter the second number: exit\n",
      "Enter an operator (+, -, *, /): exit\n"
     ]
    },
    {
     "ename": "KeyboardInterrupt",
     "evalue": "Interrupted by user",
     "output_type": "error",
     "traceback": [
      "\u001b[1;31m---------------------------------------------------------------------------\u001b[0m",
      "\u001b[1;31mKeyboardInterrupt\u001b[0m                         Traceback (most recent call last)",
      "\u001b[1;32m~\\AppData\\Local\\Temp\\ipykernel_6700\\1854833686.py\u001b[0m in \u001b[0;36m<module>\u001b[1;34m\u001b[0m\n\u001b[0;32m     38\u001b[0m \u001b[1;33m\u001b[0m\u001b[0m\n\u001b[0;32m     39\u001b[0m \u001b[1;33m\u001b[0m\u001b[0m\n\u001b[1;32m---> 40\u001b[1;33m \u001b[0mcalculator\u001b[0m\u001b[1;33m(\u001b[0m\u001b[1;33m)\u001b[0m\u001b[1;33m\u001b[0m\u001b[1;33m\u001b[0m\u001b[0m\n\u001b[0m",
      "\u001b[1;32m~\\AppData\\Local\\Temp\\ipykernel_6700\\1854833686.py\u001b[0m in \u001b[0;36mcalculator\u001b[1;34m()\u001b[0m\n\u001b[0;32m      1\u001b[0m \u001b[1;32mdef\u001b[0m \u001b[0mcalculator\u001b[0m\u001b[1;33m(\u001b[0m\u001b[1;33m)\u001b[0m\u001b[1;33m:\u001b[0m\u001b[1;33m\u001b[0m\u001b[1;33m\u001b[0m\u001b[0m\n\u001b[0;32m      2\u001b[0m     \u001b[1;32mwhile\u001b[0m \u001b[1;32mTrue\u001b[0m\u001b[1;33m:\u001b[0m\u001b[1;33m\u001b[0m\u001b[1;33m\u001b[0m\u001b[0m\n\u001b[1;32m----> 3\u001b[1;33m         \u001b[0mnum1\u001b[0m \u001b[1;33m=\u001b[0m \u001b[0minput\u001b[0m\u001b[1;33m(\u001b[0m\u001b[1;34m\"Enter the first number: \"\u001b[0m\u001b[1;33m)\u001b[0m\u001b[1;33m\u001b[0m\u001b[1;33m\u001b[0m\u001b[0m\n\u001b[0m\u001b[0;32m      4\u001b[0m         \u001b[0mnum2\u001b[0m \u001b[1;33m=\u001b[0m \u001b[0minput\u001b[0m\u001b[1;33m(\u001b[0m\u001b[1;34m\"Enter the second number: \"\u001b[0m\u001b[1;33m)\u001b[0m\u001b[1;33m\u001b[0m\u001b[1;33m\u001b[0m\u001b[0m\n\u001b[0;32m      5\u001b[0m         \u001b[0moperator\u001b[0m \u001b[1;33m=\u001b[0m \u001b[0minput\u001b[0m\u001b[1;33m(\u001b[0m\u001b[1;34m\"Enter an operator (+, -, *, /): \"\u001b[0m\u001b[1;33m)\u001b[0m\u001b[1;33m\u001b[0m\u001b[1;33m\u001b[0m\u001b[0m\n",
      "\u001b[1;32mC:\\ProgramData\\Anaconda3\\lib\\site-packages\\ipykernel\\kernelbase.py\u001b[0m in \u001b[0;36mraw_input\u001b[1;34m(self, prompt)\u001b[0m\n\u001b[0;32m   1175\u001b[0m                 \u001b[1;34m\"raw_input was called, but this frontend does not support input requests.\"\u001b[0m\u001b[1;33m\u001b[0m\u001b[1;33m\u001b[0m\u001b[0m\n\u001b[0;32m   1176\u001b[0m             )\n\u001b[1;32m-> 1177\u001b[1;33m         return self._input_request(\n\u001b[0m\u001b[0;32m   1178\u001b[0m             \u001b[0mstr\u001b[0m\u001b[1;33m(\u001b[0m\u001b[0mprompt\u001b[0m\u001b[1;33m)\u001b[0m\u001b[1;33m,\u001b[0m\u001b[1;33m\u001b[0m\u001b[1;33m\u001b[0m\u001b[0m\n\u001b[0;32m   1179\u001b[0m             \u001b[0mself\u001b[0m\u001b[1;33m.\u001b[0m\u001b[0m_parent_ident\u001b[0m\u001b[1;33m[\u001b[0m\u001b[1;34m\"shell\"\u001b[0m\u001b[1;33m]\u001b[0m\u001b[1;33m,\u001b[0m\u001b[1;33m\u001b[0m\u001b[1;33m\u001b[0m\u001b[0m\n",
      "\u001b[1;32mC:\\ProgramData\\Anaconda3\\lib\\site-packages\\ipykernel\\kernelbase.py\u001b[0m in \u001b[0;36m_input_request\u001b[1;34m(self, prompt, ident, parent, password)\u001b[0m\n\u001b[0;32m   1217\u001b[0m             \u001b[1;32mexcept\u001b[0m \u001b[0mKeyboardInterrupt\u001b[0m\u001b[1;33m:\u001b[0m\u001b[1;33m\u001b[0m\u001b[1;33m\u001b[0m\u001b[0m\n\u001b[0;32m   1218\u001b[0m                 \u001b[1;31m# re-raise KeyboardInterrupt, to truncate traceback\u001b[0m\u001b[1;33m\u001b[0m\u001b[1;33m\u001b[0m\u001b[0m\n\u001b[1;32m-> 1219\u001b[1;33m                 \u001b[1;32mraise\u001b[0m \u001b[0mKeyboardInterrupt\u001b[0m\u001b[1;33m(\u001b[0m\u001b[1;34m\"Interrupted by user\"\u001b[0m\u001b[1;33m)\u001b[0m \u001b[1;32mfrom\u001b[0m \u001b[1;32mNone\u001b[0m\u001b[1;33m\u001b[0m\u001b[1;33m\u001b[0m\u001b[0m\n\u001b[0m\u001b[0;32m   1220\u001b[0m             \u001b[1;32mexcept\u001b[0m \u001b[0mException\u001b[0m\u001b[1;33m:\u001b[0m\u001b[1;33m\u001b[0m\u001b[1;33m\u001b[0m\u001b[0m\n\u001b[0;32m   1221\u001b[0m                 \u001b[0mself\u001b[0m\u001b[1;33m.\u001b[0m\u001b[0mlog\u001b[0m\u001b[1;33m.\u001b[0m\u001b[0mwarning\u001b[0m\u001b[1;33m(\u001b[0m\u001b[1;34m\"Invalid Message:\"\u001b[0m\u001b[1;33m,\u001b[0m \u001b[0mexc_info\u001b[0m\u001b[1;33m=\u001b[0m\u001b[1;32mTrue\u001b[0m\u001b[1;33m)\u001b[0m\u001b[1;33m\u001b[0m\u001b[1;33m\u001b[0m\u001b[0m\n",
      "\u001b[1;31mKeyboardInterrupt\u001b[0m: Interrupted by user"
     ]
    }
   ],
   "source": [
    "def calculator():\n",
    "    while True:\n",
    "        num1 = input(\"Enter the first number: \")\n",
    "        num2 = input(\"Enter the second number: \")\n",
    "        operator = input(\"Enter an operator (+, -, *, /): \")\n",
    "        type_list = [int, float]\n",
    "\n",
    "        if num1 == \"exit\"or num2 == \"exit\" or operator == \"exit\":\n",
    "            break\n",
    "            \n",
    "        elif num2 == \"0\":\n",
    "            print(\"no zero division!\")\n",
    "            num1 = input(\"Enter the first number: \")\n",
    "            num2 = input(\"Enter the second number: \")\n",
    "            operator = input(\"Enter an operator (+, -, *, /): \")\n",
    "        elif type(num1) not in type_list or type(num2) not in type_list:\n",
    "            print(\"try again!\")\n",
    "            num1 = input(\"Enter the first number: \")\n",
    "            num2 = input(\"Enter the second number: \")\n",
    "            operator = input(\"Enter an operator (+, -, *, /): \")\n",
    "        else:\n",
    "            num1, num2 = float(num1), float(num2)\n",
    "            if operator == \"+\":\n",
    "                result = num1 + num2\n",
    "            elif operator == \"-\":\n",
    "                result = num1 - num2\n",
    "            elif operator == \"*\":\n",
    "                result = num1 * num2\n",
    "            elif operator == \"/\":\n",
    "                result = num1 / num2\n",
    "            else:\n",
    "                print(\"Invalid operator!\")\n",
    "                continue\n",
    "\n",
    "            print(\"Result:\", result)\n",
    "\n",
    "        \n",
    "     \n",
    "\n",
    "calculator()\n"
   ]
  },
  {
   "cell_type": "code",
   "execution_count": 25,
   "id": "3c31438a",
   "metadata": {},
   "outputs": [
    {
     "data": {
      "text/plain": [
       "True"
      ]
     },
     "execution_count": 25,
     "metadata": {},
     "output_type": "execute_result"
    }
   ],
   "source": [
    "\n",
    "\"65\".isnumeric()"
   ]
  },
  {
   "cell_type": "code",
   "execution_count": null,
   "id": "16420fc4",
   "metadata": {},
   "outputs": [],
   "source": []
  }
 ],
 "metadata": {
  "kernelspec": {
   "display_name": "Python 3 (ipykernel)",
   "language": "python",
   "name": "python3"
  },
  "language_info": {
   "codemirror_mode": {
    "name": "ipython",
    "version": 3
   },
   "file_extension": ".py",
   "mimetype": "text/x-python",
   "name": "python",
   "nbconvert_exporter": "python",
   "pygments_lexer": "ipython3",
   "version": "3.9.13"
  }
 },
 "nbformat": 4,
 "nbformat_minor": 5
}
